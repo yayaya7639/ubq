{
 "cells": [
  {
   "cell_type": "code",
   "execution_count": 90,
   "metadata": {},
   "outputs": [],
   "source": [
    "import os\n",
    "import sys\n",
    "import numpy as np\n",
    "import pandas as pd\n",
    "%matplotlib inline\n",
    "import matplotlib.pyplot as plt\n",
    "import seaborn as sns\n",
    "\n",
    "import warnings\n",
    "warnings.filterwarnings(\"ignore\")"
   ]
  },
  {
   "cell_type": "markdown",
   "metadata": {},
   "source": [
    "### データの読み込み"
   ]
  },
  {
   "cell_type": "code",
   "execution_count": 91,
   "metadata": {},
   "outputs": [],
   "source": [
    "INPUT_DIR = \"../inputs\"\n",
    "train_df = pd.read_csv(os.path.join(INPUT_DIR, \"train.csv\"))\n",
    "test_df = pd.read_csv(os.path.join(INPUT_DIR, \"test.csv\"))\n",
    "# sample_submit.csvにはカラム名がないのでnames=(\"id\",\"target\")でカラム名をつくってやる\n",
    "submit_df = pd.read_csv(os.path.join(INPUT_DIR, \"sample_submit.csv\"),names=(\"id\",\"target\"))"
   ]
  },
  {
   "cell_type": "markdown",
   "metadata": {},
   "source": [
    "### まずデータの中を見てみる"
   ]
  },
  {
   "cell_type": "code",
   "execution_count": 92,
   "metadata": {},
   "outputs": [
    {
     "name": "stdout",
     "output_type": "stream",
     "text": [
      "====================  train  ====================\n"
     ]
    },
    {
     "data": {
      "text/html": [
       "<div>\n",
       "<style scoped>\n",
       "    .dataframe tbody tr th:only-of-type {\n",
       "        vertical-align: middle;\n",
       "    }\n",
       "\n",
       "    .dataframe tbody tr th {\n",
       "        vertical-align: top;\n",
       "    }\n",
       "\n",
       "    .dataframe thead th {\n",
       "        text-align: right;\n",
       "    }\n",
       "</style>\n",
       "<table border=\"1\" class=\"dataframe\">\n",
       "  <thead>\n",
       "    <tr style=\"text-align: right;\">\n",
       "      <th></th>\n",
       "      <th>id</th>\n",
       "      <th>賃料</th>\n",
       "      <th>所在地</th>\n",
       "      <th>アクセス</th>\n",
       "      <th>間取り</th>\n",
       "      <th>築年数</th>\n",
       "      <th>方角</th>\n",
       "      <th>面積</th>\n",
       "      <th>所在階</th>\n",
       "      <th>バス・トイレ</th>\n",
       "      <th>キッチン</th>\n",
       "      <th>放送・通信</th>\n",
       "      <th>室内設備</th>\n",
       "      <th>駐車場</th>\n",
       "      <th>周辺環境</th>\n",
       "      <th>建物構造</th>\n",
       "      <th>契約期間</th>\n",
       "    </tr>\n",
       "  </thead>\n",
       "  <tbody>\n",
       "    <tr>\n",
       "      <th>0</th>\n",
       "      <td>1</td>\n",
       "      <td>75000</td>\n",
       "      <td>東京都北区滝野川３丁目</td>\n",
       "      <td>都営三田線\\t西巣鴨駅\\t徒歩4分\\t\\t埼京線\\t板橋駅\\t徒歩14分\\t\\t都電荒川線\\...</td>\n",
       "      <td>1K</td>\n",
       "      <td>9年9ヶ月</td>\n",
       "      <td>南東</td>\n",
       "      <td>20.01m2</td>\n",
       "      <td>1階／12階建</td>\n",
       "      <td>専用バス／\\t専用トイレ／\\tバス・トイレ別／\\tシャワー／\\t浴室乾燥機\\t／\\t温水洗浄便座</td>\n",
       "      <td>ガスコンロ／\\tコンロ2口／\\tシステムキッチン\\t／\\t給湯</td>\n",
       "      <td>インターネット対応／\\tCATV／\\tCSアンテナ／\\tBSアンテナ</td>\n",
       "      <td>エアコン付\\tシューズボックス／\\tバルコニー／\\tフローリング／\\t室内洗濯機置場／\\t敷...</td>\n",
       "      <td>駐輪場\\t空有</td>\n",
       "      <td>【小学校】 495m\\t【大学】 461m\\t【小学校】 962m\\t【公園】 1103m\\...</td>\n",
       "      <td>RC（鉄筋コンクリート）</td>\n",
       "      <td>2年間</td>\n",
       "    </tr>\n",
       "    <tr>\n",
       "      <th>1</th>\n",
       "      <td>2</td>\n",
       "      <td>76000</td>\n",
       "      <td>東京都中央区月島３丁目</td>\n",
       "      <td>都営大江戸線\\t勝どき駅\\t徒歩5分\\t\\t有楽町線\\t月島駅\\t徒歩9分\\t\\t日比谷線\\...</td>\n",
       "      <td>1R</td>\n",
       "      <td>44年10ヶ月</td>\n",
       "      <td>NaN</td>\n",
       "      <td>16.5m2</td>\n",
       "      <td>5階／10階建</td>\n",
       "      <td>専用トイレ／\\tシャワー／\\t温水洗浄便座</td>\n",
       "      <td>ガスコンロ／\\tシステムキッチン\\t／\\t給湯</td>\n",
       "      <td>インターネット対応</td>\n",
       "      <td>エアコン付\\tシューズボックス／\\tバルコニー／\\tフローリング／\\t室内洗濯機置場／\\t敷...</td>\n",
       "      <td>駐輪場\\t空有\\t駐車場\\t無\\tバイク置き場\\t無</td>\n",
       "      <td>【スーパー】 1283m</td>\n",
       "      <td>鉄骨造</td>\n",
       "      <td>2年間</td>\n",
       "    </tr>\n",
       "    <tr>\n",
       "      <th>2</th>\n",
       "      <td>3</td>\n",
       "      <td>110000</td>\n",
       "      <td>東京都渋谷区笹塚２丁目</td>\n",
       "      <td>京王線\\t笹塚駅\\t徒歩6分\\t\\t京王線\\t代田橋駅\\t徒歩7分\\t\\t京王線\\t明大前駅...</td>\n",
       "      <td>1K</td>\n",
       "      <td>8年6ヶ月</td>\n",
       "      <td>南</td>\n",
       "      <td>22.05m2</td>\n",
       "      <td>12階／15階建</td>\n",
       "      <td>専用バス／\\t専用トイレ／\\tバス・トイレ別／\\tシャワー／\\t浴室乾燥機\\t／\\t温水洗浄...</td>\n",
       "      <td>ガスコンロ／\\tコンロ2口／\\tシステムキッチン\\t／\\t給湯</td>\n",
       "      <td>インターネット対応／\\t光ファイバー／\\tCSアンテナ／\\tBSアンテナ</td>\n",
       "      <td>エアコン付\\tウォークインクローゼット\\tシューズボックス／\\tバルコニー／\\tフローリング...</td>\n",
       "      <td>駐輪場\\t空有\\tバイク置き場\\t空有\\t駐車場\\t近隣\\t30,000円(税込)\\t距離100m</td>\n",
       "      <td>【スーパー】 89m\\t【コンビニ】 184m\\t【コンビニ】 392m\\t【スーパー】 492m</td>\n",
       "      <td>RC（鉄筋コンクリート）</td>\n",
       "      <td>2年間</td>\n",
       "    </tr>\n",
       "  </tbody>\n",
       "</table>\n",
       "</div>"
      ],
      "text/plain": [
       "   id      賃料          所在地                                               アクセス  \\\n",
       "0   1   75000  東京都北区滝野川３丁目  都営三田線\\t西巣鴨駅\\t徒歩4分\\t\\t埼京線\\t板橋駅\\t徒歩14分\\t\\t都電荒川線\\...   \n",
       "1   2   76000  東京都中央区月島３丁目  都営大江戸線\\t勝どき駅\\t徒歩5分\\t\\t有楽町線\\t月島駅\\t徒歩9分\\t\\t日比谷線\\...   \n",
       "2   3  110000  東京都渋谷区笹塚２丁目  京王線\\t笹塚駅\\t徒歩6分\\t\\t京王線\\t代田橋駅\\t徒歩7分\\t\\t京王線\\t明大前駅...   \n",
       "\n",
       "  間取り      築年数   方角       面積       所在階  \\\n",
       "0  1K    9年9ヶ月   南東  20.01m2   1階／12階建   \n",
       "1  1R  44年10ヶ月  NaN   16.5m2   5階／10階建   \n",
       "2  1K    8年6ヶ月    南  22.05m2  12階／15階建   \n",
       "\n",
       "                                              バス・トイレ  \\\n",
       "0   専用バス／\\t専用トイレ／\\tバス・トイレ別／\\tシャワー／\\t浴室乾燥機\\t／\\t温水洗浄便座   \n",
       "1                              専用トイレ／\\tシャワー／\\t温水洗浄便座   \n",
       "2  専用バス／\\t専用トイレ／\\tバス・トイレ別／\\tシャワー／\\t浴室乾燥機\\t／\\t温水洗浄...   \n",
       "\n",
       "                              キッチン                                 放送・通信  \\\n",
       "0  ガスコンロ／\\tコンロ2口／\\tシステムキッチン\\t／\\t給湯    インターネット対応／\\tCATV／\\tCSアンテナ／\\tBSアンテナ   \n",
       "1          ガスコンロ／\\tシステムキッチン\\t／\\t給湯                             インターネット対応   \n",
       "2  ガスコンロ／\\tコンロ2口／\\tシステムキッチン\\t／\\t給湯  インターネット対応／\\t光ファイバー／\\tCSアンテナ／\\tBSアンテナ   \n",
       "\n",
       "                                                室内設備  \\\n",
       "0  エアコン付\\tシューズボックス／\\tバルコニー／\\tフローリング／\\t室内洗濯機置場／\\t敷...   \n",
       "1  エアコン付\\tシューズボックス／\\tバルコニー／\\tフローリング／\\t室内洗濯機置場／\\t敷...   \n",
       "2  エアコン付\\tウォークインクローゼット\\tシューズボックス／\\tバルコニー／\\tフローリング...   \n",
       "\n",
       "                                                 駐車場  \\\n",
       "0                                            駐輪場\\t空有   \n",
       "1                         駐輪場\\t空有\\t駐車場\\t無\\tバイク置き場\\t無   \n",
       "2  駐輪場\\t空有\\tバイク置き場\\t空有\\t駐車場\\t近隣\\t30,000円(税込)\\t距離100m   \n",
       "\n",
       "                                                周辺環境          建物構造 契約期間  \n",
       "0  【小学校】 495m\\t【大学】 461m\\t【小学校】 962m\\t【公園】 1103m\\...  RC（鉄筋コンクリート）  2年間  \n",
       "1                                       【スーパー】 1283m           鉄骨造  2年間  \n",
       "2  【スーパー】 89m\\t【コンビニ】 184m\\t【コンビニ】 392m\\t【スーパー】 492m  RC（鉄筋コンクリート）  2年間  "
      ]
     },
     "metadata": {},
     "output_type": "display_data"
    },
    {
     "name": "stdout",
     "output_type": "stream",
     "text": [
      "<class 'pandas.core.frame.DataFrame'>\n",
      "RangeIndex: 31470 entries, 0 to 31469\n",
      "Data columns (total 17 columns):\n",
      " #   Column  Non-Null Count  Dtype \n",
      "---  ------  --------------  ----- \n",
      " 0   id      31470 non-null  int64 \n",
      " 1   賃料      31470 non-null  int64 \n",
      " 2   所在地     31470 non-null  object\n",
      " 3   アクセス    31470 non-null  object\n",
      " 4   間取り     31470 non-null  object\n",
      " 5   築年数     31470 non-null  object\n",
      " 6   方角      28721 non-null  object\n",
      " 7   面積      31470 non-null  object\n",
      " 8   所在階     31470 non-null  object\n",
      " 9   バス・トイレ  31141 non-null  object\n",
      " 10  キッチン    30849 non-null  object\n",
      " 11  放送・通信   28030 non-null  object\n",
      " 12  室内設備    31388 non-null  object\n",
      " 13  駐車場     26183 non-null  object\n",
      " 14  周辺環境    22038 non-null  object\n",
      " 15  建物構造    31470 non-null  object\n",
      " 16  契約期間    24350 non-null  object\n",
      "dtypes: int64(2), object(15)\n",
      "memory usage: 4.1+ MB\n"
     ]
    },
    {
     "data": {
      "text/plain": [
       "None"
      ]
     },
     "metadata": {},
     "output_type": "display_data"
    },
    {
     "name": "stdout",
     "output_type": "stream",
     "text": [
      "====================  test  ====================\n"
     ]
    },
    {
     "data": {
      "text/html": [
       "<div>\n",
       "<style scoped>\n",
       "    .dataframe tbody tr th:only-of-type {\n",
       "        vertical-align: middle;\n",
       "    }\n",
       "\n",
       "    .dataframe tbody tr th {\n",
       "        vertical-align: top;\n",
       "    }\n",
       "\n",
       "    .dataframe thead th {\n",
       "        text-align: right;\n",
       "    }\n",
       "</style>\n",
       "<table border=\"1\" class=\"dataframe\">\n",
       "  <thead>\n",
       "    <tr style=\"text-align: right;\">\n",
       "      <th></th>\n",
       "      <th>id</th>\n",
       "      <th>所在地</th>\n",
       "      <th>アクセス</th>\n",
       "      <th>間取り</th>\n",
       "      <th>築年数</th>\n",
       "      <th>方角</th>\n",
       "      <th>面積</th>\n",
       "      <th>所在階</th>\n",
       "      <th>バス・トイレ</th>\n",
       "      <th>キッチン</th>\n",
       "      <th>放送・通信</th>\n",
       "      <th>室内設備</th>\n",
       "      <th>駐車場</th>\n",
       "      <th>周辺環境</th>\n",
       "      <th>建物構造</th>\n",
       "      <th>契約期間</th>\n",
       "    </tr>\n",
       "  </thead>\n",
       "  <tbody>\n",
       "    <tr>\n",
       "      <th>0</th>\n",
       "      <td>31471</td>\n",
       "      <td>東京都世田谷区深沢５丁目1-27</td>\n",
       "      <td>東急大井町線\\t等々力駅\\t徒歩15分\\t\\t東急田園都市線\\t桜新町駅\\t徒歩24分\\t\\...</td>\n",
       "      <td>2LDK</td>\n",
       "      <td>49年0ヶ月</td>\n",
       "      <td>南</td>\n",
       "      <td>50.22m2</td>\n",
       "      <td>8階／8階建</td>\n",
       "      <td>専用バス／\\t専用トイレ／\\tバス・トイレ別／\\tシャワー／\\t追焚機能／\\t温水洗浄便座／...</td>\n",
       "      <td>ガスコンロ／\\tコンロ3口／\\tシステムキッチン\\t／\\t給湯／\\tL字キッチン</td>\n",
       "      <td>インターネット対応</td>\n",
       "      <td>エアコン付\\tシューズボックス／\\tバルコニー／\\tフローリング／\\tエレベーター\\t公営水...</td>\n",
       "      <td>駐輪場\\t空有\\t駐車場\\t無\\tバイク置き場\\t無</td>\n",
       "      <td>【コンビニ】 74m\\t【スーパー】 215m\\t【病院】 313m\\t【小学校】 219m...</td>\n",
       "      <td>鉄骨造</td>\n",
       "      <td>NaN</td>\n",
       "    </tr>\n",
       "    <tr>\n",
       "      <th>1</th>\n",
       "      <td>31472</td>\n",
       "      <td>東京都目黒区八雲１丁目11-8</td>\n",
       "      <td>東急東横線\\t都立大学駅\\t徒歩6分\\t\\t東急東横線\\t自由が丘駅\\t徒歩17分\\t\\t東...</td>\n",
       "      <td>1R</td>\n",
       "      <td>0年2ヶ月</td>\n",
       "      <td>南東</td>\n",
       "      <td>20.88m2</td>\n",
       "      <td>3階／4階建</td>\n",
       "      <td>専用バス／\\t専用トイレ／\\tバス・トイレ別／\\tシャワー／\\t浴室乾燥機\\t／\\t温水洗浄...</td>\n",
       "      <td>ガスコンロ／\\tコンロ2口／\\tシステムキッチン\\t／\\t給湯</td>\n",
       "      <td>インターネット対応／\\tCSアンテナ／\\tBSアンテナ／\\tインターネット使用料無料</td>\n",
       "      <td>エアコン付\\tシューズボックス／\\tフローリング／\\t室内洗濯機置場\\t公営水道／\\t下水／...</td>\n",
       "      <td>駐車場\\t近隣\\t34,000円(税込)\\t距離200m\\t駐輪場\\t無\\tバイク置き場\\t無</td>\n",
       "      <td>【スーパー】 128m\\t【スーパー】 313m\\t【コンビニ】 374m\\t【コンビニ】 ...</td>\n",
       "      <td>RC（鉄筋コンクリート）</td>\n",
       "      <td>2年間</td>\n",
       "    </tr>\n",
       "    <tr>\n",
       "      <th>2</th>\n",
       "      <td>31473</td>\n",
       "      <td>東京都豊島区池袋本町２丁目22-2</td>\n",
       "      <td>東武東上線\\t北池袋駅\\t徒歩10分\\t\\t埼京線\\t板橋駅\\t徒歩16分\\t\\t山手線\\t...</td>\n",
       "      <td>1K</td>\n",
       "      <td>23年4ヶ月</td>\n",
       "      <td>南東</td>\n",
       "      <td>26.93m2</td>\n",
       "      <td>1階／4階建</td>\n",
       "      <td>専用バス／\\t専用トイレ／\\tバス・トイレ別／\\tシャワー／\\t温水洗浄便座</td>\n",
       "      <td>ガスコンロ／\\t給湯</td>\n",
       "      <td>インターネット対応／\\t光ファイバー／\\tCATV</td>\n",
       "      <td>エアコン付\\tシューズボックス／\\tバルコニー／\\tフローリング／\\t2面採光／\\t室内洗濯...</td>\n",
       "      <td>駐車場\\t空有\\t5,000円(税込)\\t(敷金あり\\t1ヶ月)\\t駐輪場\\t空有\\tバイク...</td>\n",
       "      <td>【スーパー】 529m\\t【スーパー】 810m\\t【コンビニ】 316m\\t【コンビニ】 ...</td>\n",
       "      <td>鉄骨造</td>\n",
       "      <td>2年間</td>\n",
       "    </tr>\n",
       "  </tbody>\n",
       "</table>\n",
       "</div>"
      ],
      "text/plain": [
       "      id                所在地  \\\n",
       "0  31471   東京都世田谷区深沢５丁目1-27   \n",
       "1  31472    東京都目黒区八雲１丁目11-8   \n",
       "2  31473  東京都豊島区池袋本町２丁目22-2   \n",
       "\n",
       "                                                アクセス   間取り     築年数  方角  \\\n",
       "0  東急大井町線\\t等々力駅\\t徒歩15分\\t\\t東急田園都市線\\t桜新町駅\\t徒歩24分\\t\\...  2LDK  49年0ヶ月   南   \n",
       "1  東急東横線\\t都立大学駅\\t徒歩6分\\t\\t東急東横線\\t自由が丘駅\\t徒歩17分\\t\\t東...    1R   0年2ヶ月  南東   \n",
       "2  東武東上線\\t北池袋駅\\t徒歩10分\\t\\t埼京線\\t板橋駅\\t徒歩16分\\t\\t山手線\\t...    1K  23年4ヶ月  南東   \n",
       "\n",
       "        面積     所在階                                             バス・トイレ  \\\n",
       "0  50.22m2  8階／8階建  専用バス／\\t専用トイレ／\\tバス・トイレ別／\\tシャワー／\\t追焚機能／\\t温水洗浄便座／...   \n",
       "1  20.88m2  3階／4階建  専用バス／\\t専用トイレ／\\tバス・トイレ別／\\tシャワー／\\t浴室乾燥機\\t／\\t温水洗浄...   \n",
       "2  26.93m2  1階／4階建             専用バス／\\t専用トイレ／\\tバス・トイレ別／\\tシャワー／\\t温水洗浄便座   \n",
       "\n",
       "                                       キッチン  \\\n",
       "0  ガスコンロ／\\tコンロ3口／\\tシステムキッチン\\t／\\t給湯／\\tL字キッチン   \n",
       "1           ガスコンロ／\\tコンロ2口／\\tシステムキッチン\\t／\\t給湯   \n",
       "2                                ガスコンロ／\\t給湯   \n",
       "\n",
       "                                        放送・通信  \\\n",
       "0                                   インターネット対応   \n",
       "1  インターネット対応／\\tCSアンテナ／\\tBSアンテナ／\\tインターネット使用料無料   \n",
       "2                   インターネット対応／\\t光ファイバー／\\tCATV   \n",
       "\n",
       "                                                室内設備  \\\n",
       "0  エアコン付\\tシューズボックス／\\tバルコニー／\\tフローリング／\\tエレベーター\\t公営水...   \n",
       "1  エアコン付\\tシューズボックス／\\tフローリング／\\t室内洗濯機置場\\t公営水道／\\t下水／...   \n",
       "2  エアコン付\\tシューズボックス／\\tバルコニー／\\tフローリング／\\t2面採光／\\t室内洗濯...   \n",
       "\n",
       "                                                 駐車場  \\\n",
       "0                         駐輪場\\t空有\\t駐車場\\t無\\tバイク置き場\\t無   \n",
       "1    駐車場\\t近隣\\t34,000円(税込)\\t距離200m\\t駐輪場\\t無\\tバイク置き場\\t無   \n",
       "2  駐車場\\t空有\\t5,000円(税込)\\t(敷金あり\\t1ヶ月)\\t駐輪場\\t空有\\tバイク...   \n",
       "\n",
       "                                                周辺環境          建物構造 契約期間  \n",
       "0  【コンビニ】 74m\\t【スーパー】 215m\\t【病院】 313m\\t【小学校】 219m...           鉄骨造  NaN  \n",
       "1  【スーパー】 128m\\t【スーパー】 313m\\t【コンビニ】 374m\\t【コンビニ】 ...  RC（鉄筋コンクリート）  2年間  \n",
       "2  【スーパー】 529m\\t【スーパー】 810m\\t【コンビニ】 316m\\t【コンビニ】 ...           鉄骨造  2年間  "
      ]
     },
     "metadata": {},
     "output_type": "display_data"
    },
    {
     "name": "stdout",
     "output_type": "stream",
     "text": [
      "<class 'pandas.core.frame.DataFrame'>\n",
      "RangeIndex: 31262 entries, 0 to 31261\n",
      "Data columns (total 16 columns):\n",
      " #   Column  Non-Null Count  Dtype \n",
      "---  ------  --------------  ----- \n",
      " 0   id      31262 non-null  int64 \n",
      " 1   所在地     31262 non-null  object\n",
      " 2   アクセス    31262 non-null  object\n",
      " 3   間取り     31262 non-null  object\n",
      " 4   築年数     31262 non-null  object\n",
      " 5   方角      28454 non-null  object\n",
      " 6   面積      31262 non-null  object\n",
      " 7   所在階     31261 non-null  object\n",
      " 8   バス・トイレ  30942 non-null  object\n",
      " 9   キッチン    30627 non-null  object\n",
      " 10  放送・通信   27808 non-null  object\n",
      " 11  室内設備    31189 non-null  object\n",
      " 12  駐車場     25906 non-null  object\n",
      " 13  周辺環境    22021 non-null  object\n",
      " 14  建物構造    31262 non-null  object\n",
      " 15  契約期間    24281 non-null  object\n",
      "dtypes: int64(1), object(15)\n",
      "memory usage: 3.8+ MB\n"
     ]
    },
    {
     "data": {
      "text/plain": [
       "None"
      ]
     },
     "metadata": {},
     "output_type": "display_data"
    },
    {
     "name": "stdout",
     "output_type": "stream",
     "text": [
      "====================  sample submission  ====================\n"
     ]
    },
    {
     "data": {
      "text/html": [
       "<div>\n",
       "<style scoped>\n",
       "    .dataframe tbody tr th:only-of-type {\n",
       "        vertical-align: middle;\n",
       "    }\n",
       "\n",
       "    .dataframe tbody tr th {\n",
       "        vertical-align: top;\n",
       "    }\n",
       "\n",
       "    .dataframe thead th {\n",
       "        text-align: right;\n",
       "    }\n",
       "</style>\n",
       "<table border=\"1\" class=\"dataframe\">\n",
       "  <thead>\n",
       "    <tr style=\"text-align: right;\">\n",
       "      <th></th>\n",
       "      <th>id</th>\n",
       "      <th>target</th>\n",
       "    </tr>\n",
       "  </thead>\n",
       "  <tbody>\n",
       "    <tr>\n",
       "      <th>0</th>\n",
       "      <td>31471</td>\n",
       "      <td>303875</td>\n",
       "    </tr>\n",
       "    <tr>\n",
       "      <th>1</th>\n",
       "      <td>31472</td>\n",
       "      <td>422016</td>\n",
       "    </tr>\n",
       "    <tr>\n",
       "      <th>2</th>\n",
       "      <td>31473</td>\n",
       "      <td>275390</td>\n",
       "    </tr>\n",
       "  </tbody>\n",
       "</table>\n",
       "</div>"
      ],
      "text/plain": [
       "      id  target\n",
       "0  31471  303875\n",
       "1  31472  422016\n",
       "2  31473  275390"
      ]
     },
     "metadata": {},
     "output_type": "display_data"
    },
    {
     "name": "stdout",
     "output_type": "stream",
     "text": [
      "<class 'pandas.core.frame.DataFrame'>\n",
      "RangeIndex: 31262 entries, 0 to 31261\n",
      "Data columns (total 2 columns):\n",
      " #   Column  Non-Null Count  Dtype\n",
      "---  ------  --------------  -----\n",
      " 0   id      31262 non-null  int64\n",
      " 1   target  31262 non-null  int64\n",
      "dtypes: int64(2)\n",
      "memory usage: 488.6 KB\n"
     ]
    },
    {
     "data": {
      "text/plain": [
       "None"
      ]
     },
     "metadata": {},
     "output_type": "display_data"
    }
   ],
   "source": [
    "print(\"=\"*20, \" train \", \"=\"*20)\n",
    "display(train_df.head(3))\n",
    "display(train_df.info())\n",
    "\n",
    "print(\"=\"*20, \" test \", \"=\"*20)\n",
    "display(test_df.head(3))\n",
    "display(test_df.info())\n",
    "\n",
    "print(\"=\"*20, \" sample submission \", \"=\"*20)\n",
    "display(submit_df.head(3))\n",
    "display(submit_df.info())"
   ]
  },
  {
   "cell_type": "markdown",
   "metadata": {},
   "source": [
    "- 学習に使用できるtrainは約3万件，testも同じぐらい\n",
    "- 予測対象の賃料以外はobject型（文字列）なので学習に使用できる特徴量にするには前処理が必要"
   ]
  },
  {
   "cell_type": "code",
   "execution_count": 93,
   "metadata": {},
   "outputs": [
    {
     "data": {
      "text/html": [
       "<div>\n",
       "<style scoped>\n",
       "    .dataframe tbody tr th:only-of-type {\n",
       "        vertical-align: middle;\n",
       "    }\n",
       "\n",
       "    .dataframe tbody tr th {\n",
       "        vertical-align: top;\n",
       "    }\n",
       "\n",
       "    .dataframe thead th {\n",
       "        text-align: right;\n",
       "    }\n",
       "</style>\n",
       "<table border=\"1\" class=\"dataframe\">\n",
       "  <thead>\n",
       "    <tr style=\"text-align: right;\">\n",
       "      <th></th>\n",
       "      <th>id</th>\n",
       "      <th>target</th>\n",
       "      <th>Place</th>\n",
       "      <th>Access</th>\n",
       "      <th>Room</th>\n",
       "      <th>Passed</th>\n",
       "      <th>Angle</th>\n",
       "      <th>Area</th>\n",
       "      <th>Floor</th>\n",
       "      <th>Bath</th>\n",
       "      <th>Kitchen</th>\n",
       "      <th>Internet</th>\n",
       "      <th>Facility</th>\n",
       "      <th>Parking</th>\n",
       "      <th>Building</th>\n",
       "      <th>Material</th>\n",
       "      <th>Contract</th>\n",
       "    </tr>\n",
       "  </thead>\n",
       "  <tbody>\n",
       "    <tr>\n",
       "      <th>0</th>\n",
       "      <td>1</td>\n",
       "      <td>75000</td>\n",
       "      <td>東京都北区滝野川３丁目</td>\n",
       "      <td>都営三田線\\t西巣鴨駅\\t徒歩4分\\t\\t埼京線\\t板橋駅\\t徒歩14分\\t\\t都電荒川線\\...</td>\n",
       "      <td>1K</td>\n",
       "      <td>9年9ヶ月</td>\n",
       "      <td>南東</td>\n",
       "      <td>20.01m2</td>\n",
       "      <td>1階／12階建</td>\n",
       "      <td>専用バス／\\t専用トイレ／\\tバス・トイレ別／\\tシャワー／\\t浴室乾燥機\\t／\\t温水洗浄便座</td>\n",
       "      <td>ガスコンロ／\\tコンロ2口／\\tシステムキッチン\\t／\\t給湯</td>\n",
       "      <td>インターネット対応／\\tCATV／\\tCSアンテナ／\\tBSアンテナ</td>\n",
       "      <td>エアコン付\\tシューズボックス／\\tバルコニー／\\tフローリング／\\t室内洗濯機置場／\\t敷...</td>\n",
       "      <td>駐輪場\\t空有</td>\n",
       "      <td>【小学校】 495m\\t【大学】 461m\\t【小学校】 962m\\t【公園】 1103m\\...</td>\n",
       "      <td>RC（鉄筋コンクリート）</td>\n",
       "      <td>2年間</td>\n",
       "    </tr>\n",
       "  </tbody>\n",
       "</table>\n",
       "</div>"
      ],
      "text/plain": [
       "   id  target        Place                                             Access  \\\n",
       "0   1   75000  東京都北区滝野川３丁目  都営三田線\\t西巣鴨駅\\t徒歩4分\\t\\t埼京線\\t板橋駅\\t徒歩14分\\t\\t都電荒川線\\...   \n",
       "\n",
       "  Room Passed Angle     Area    Floor  \\\n",
       "0   1K  9年9ヶ月    南東  20.01m2  1階／12階建   \n",
       "\n",
       "                                               Bath  \\\n",
       "0  専用バス／\\t専用トイレ／\\tバス・トイレ別／\\tシャワー／\\t浴室乾燥機\\t／\\t温水洗浄便座   \n",
       "\n",
       "                           Kitchen                            Internet  \\\n",
       "0  ガスコンロ／\\tコンロ2口／\\tシステムキッチン\\t／\\t給湯  インターネット対応／\\tCATV／\\tCSアンテナ／\\tBSアンテナ   \n",
       "\n",
       "                                            Facility  Parking  \\\n",
       "0  エアコン付\\tシューズボックス／\\tバルコニー／\\tフローリング／\\t室内洗濯機置場／\\t敷...  駐輪場\\t空有   \n",
       "\n",
       "                                            Building      Material Contract  \n",
       "0  【小学校】 495m\\t【大学】 461m\\t【小学校】 962m\\t【公園】 1103m\\...  RC（鉄筋コンクリート）      2年間  "
      ]
     },
     "metadata": {},
     "output_type": "display_data"
    }
   ],
   "source": [
    "# カラム名が日本語なのは不都合なので英語に変換する\n",
    "train_df = train_df.rename(\n",
    "    columns={\n",
    "        '賃料':'target',\n",
    "        '契約期間':'Contract', \n",
    "        '間取り':'Room', \n",
    "        '築年数':'Passed',\n",
    "        '駐車場':'Parking', \n",
    "        '室内設備':'Facility', \n",
    "        '放送・通信':'Internet', \n",
    "        '周辺環境':'Building', \n",
    "        '建物構造':'Material', \n",
    "        '面積':'Area', \n",
    "        'キッチン':'Kitchen', \n",
    "        '所在地':'Place',\n",
    "        'バス・トイレ':'Bath', \n",
    "        '所在階':'Floor', \n",
    "        'アクセス':'Access', \n",
    "        '方角':'Angle'\n",
    "    }\n",
    ")\n",
    "\n",
    "test_df = test_df.rename(\n",
    "    columns={\n",
    "        '契約期間':'Contract', \n",
    "        '間取り':'Room', \n",
    "        '築年数':'Passed',\n",
    "        '駐車場':'Parking', \n",
    "        '室内設備':'Facility', \n",
    "        '放送・通信':'Internet', \n",
    "        '周辺環境':'Building', \n",
    "        '建物構造':'Material', \n",
    "        '面積':'Area', \n",
    "        'キッチン':'Kitchen', \n",
    "        '所在地':'Place',\n",
    "        'バス・トイレ':'Bath', \n",
    "        '所在階':'Floor', \n",
    "        'アクセス':'Access', \n",
    "        '方角':'Angle'\n",
    "    }\n",
    ")\n",
    "display(train_df.head(1))"
   ]
  },
  {
   "cell_type": "markdown",
   "metadata": {},
   "source": [
    "### EDA(Exploratory Data Analysis)\n",
    "データの詳細を把握するため探索的(Exploratory)にデータを分析する\n",
    "\n",
    "- 賃料（予測対象）\n",
    "- 所在地\n",
    "- アクセス\n",
    "- 間取り\n",
    "- 築年数\n",
    "- 方角\n",
    "- 面積\n",
    "- 所在階\n",
    "- バス・トイレ\n",
    "- キッチン\n",
    "- 放送・通信\n",
    "- 室内設備\n",
    "- 駐車場\n",
    "- 周辺環境\n",
    "- 建物構造\n",
    "- 契約期間"
   ]
  },
  {
   "cell_type": "markdown",
   "metadata": {},
   "source": [
    "#### 賃料（target）"
   ]
  },
  {
   "cell_type": "code",
   "execution_count": 94,
   "metadata": {},
   "outputs": [
    {
     "data": {
      "text/plain": [
       "count    3.147000e+04\n",
       "mean     1.182903e+05\n",
       "std      7.374880e+04\n",
       "min      2.500000e+04\n",
       "25%      7.600000e+04\n",
       "50%      1.020000e+05\n",
       "75%      1.360000e+05\n",
       "max      2.500000e+06\n",
       "Name: target, dtype: float64"
      ]
     },
     "execution_count": 94,
     "metadata": {},
     "output_type": "execute_result"
    }
   ],
   "source": [
    "# 賃料の統計量をみる\n",
    "train_df[\"target\"].describe()"
   ]
  },
  {
   "cell_type": "markdown",
   "metadata": {},
   "source": [
    "- 最安が2万5000円で最高が250万円（高すぎ）\n",
    "- 中央値が10万ちょいで平均は11万8千円（東京高いな...）"
   ]
  },
  {
   "cell_type": "code",
   "execution_count": 95,
   "metadata": {},
   "outputs": [
    {
     "data": {
      "text/plain": [
       "<AxesSubplot:xlabel='target', ylabel='Count'>"
      ]
     },
     "execution_count": 95,
     "metadata": {},
     "output_type": "execute_result"
    },
    {
     "data": {
      "image/png": "[encoded data removed]",
      "text/plain": [
       "<Figure size 864x432 with 1 Axes>"
      ]
     },
     "metadata": {
      "needs_background": "light"
     },
     "output_type": "display_data"
    }
   ],
   "source": [
    "plt.figure(figsize=(12,6))\n",
    "sns.histplot(train_df[\"target\"])"
   ]
  },
  {
   "cell_type": "markdown",
   "metadata": {},
   "source": [
    "- 250万に近い物件は流石にほとんどない\n",
    "- ほとんどが50万円以内におさまっている"
   ]
  },
  {
   "cell_type": "code",
   "execution_count": 96,
   "metadata": {},
   "outputs": [
    {
     "data": {
      "text/plain": [
       "375620.0000000026"
      ]
     },
     "execution_count": 96,
     "metadata": {},
     "output_type": "execute_result"
    }
   ],
   "source": [
    "train_df[\"target\"].quantile(0.99)"
   ]
  },
  {
   "cell_type": "markdown",
   "metadata": {},
   "source": [
    "trainデータの99%が37万円以内にあることがわかる\n",
    "\n",
    "250万の賃貸ってどんなもの？"
   ]
  },
  {
   "cell_type": "code",
   "execution_count": 97,
   "metadata": {},
   "outputs": [
    {
     "data": {
      "text/html": [
       "<div>\n",
       "<style scoped>\n",
       "    .dataframe tbody tr th:only-of-type {\n",
       "        vertical-align: middle;\n",
       "    }\n",
       "\n",
       "    .dataframe tbody tr th {\n",
       "        vertical-align: top;\n",
       "    }\n",
       "\n",
       "    .dataframe thead th {\n",
       "        text-align: right;\n",
       "    }\n",
       "</style>\n",
       "<table border=\"1\" class=\"dataframe\">\n",
       "  <thead>\n",
       "    <tr style=\"text-align: right;\">\n",
       "      <th></th>\n",
       "      <th>id</th>\n",
       "      <th>target</th>\n",
       "      <th>Place</th>\n",
       "      <th>Access</th>\n",
       "      <th>Room</th>\n",
       "      <th>Passed</th>\n",
       "      <th>Angle</th>\n",
       "      <th>Area</th>\n",
       "      <th>Floor</th>\n",
       "      <th>Bath</th>\n",
       "      <th>Kitchen</th>\n",
       "      <th>Internet</th>\n",
       "      <th>Facility</th>\n",
       "      <th>Parking</th>\n",
       "      <th>Building</th>\n",
       "      <th>Material</th>\n",
       "      <th>Contract</th>\n",
       "    </tr>\n",
       "  </thead>\n",
       "  <tbody>\n",
       "    <tr>\n",
       "      <th>5093</th>\n",
       "      <td>5094</td>\n",
       "      <td>2500000</td>\n",
       "      <td>東京都港区三田２丁目4-3</td>\n",
       "      <td>南北線\\t麻布十番駅\\t徒歩8分\\t\\t都営大江戸線\\t赤羽橋駅\\t徒歩9分\\t\\t山手線\\...</td>\n",
       "      <td>2LDK+S(納戸)</td>\n",
       "      <td>1年8ヶ月</td>\n",
       "      <td>西</td>\n",
       "      <td>217.29m2</td>\n",
       "      <td>9階／9階建（地下2階）</td>\n",
       "      <td>専用バス／\\t専用トイレ／\\tバス・トイレ別／\\tシャワー／\\t追焚機能／\\t浴室乾燥機\\t...</td>\n",
       "      <td>IHコンロ\\t／\\tコンロ3口／\\tシステムキッチン\\t／\\tカウンターキッチン\\t／\\tL...</td>\n",
       "      <td>インターネット対応</td>\n",
       "      <td>エアコン付／\\t床暖房\\tウォークインクローゼット\\tシューズボックス／\\tバルコニー／\\t...</td>\n",
       "      <td>駐車場\\t空有(43台)\\t48,600円</td>\n",
       "      <td>【飲食店】 959m\\t【飲食店】 611m\\t【スーパー】 417m\\t【スーパー】 65...</td>\n",
       "      <td>RC（鉄筋コンクリート）</td>\n",
       "      <td>3年間\\t※この物件は\\t定期借家\\tです。</td>\n",
       "    </tr>\n",
       "  </tbody>\n",
       "</table>\n",
       "</div>"
      ],
      "text/plain": [
       "        id   target          Place  \\\n",
       "5093  5094  2500000  東京都港区三田２丁目4-3   \n",
       "\n",
       "                                                 Access        Room Passed  \\\n",
       "5093  南北線\\t麻布十番駅\\t徒歩8分\\t\\t都営大江戸線\\t赤羽橋駅\\t徒歩9分\\t\\t山手線\\...  2LDK+S(納戸)  1年8ヶ月   \n",
       "\n",
       "     Angle      Area         Floor  \\\n",
       "5093     西  217.29m2  9階／9階建（地下2階）   \n",
       "\n",
       "                                                   Bath  \\\n",
       "5093  専用バス／\\t専用トイレ／\\tバス・トイレ別／\\tシャワー／\\t追焚機能／\\t浴室乾燥機\\t...   \n",
       "\n",
       "                                                Kitchen   Internet  \\\n",
       "5093  IHコンロ\\t／\\tコンロ3口／\\tシステムキッチン\\t／\\tカウンターキッチン\\t／\\tL...  インターネット対応   \n",
       "\n",
       "                                               Facility  \\\n",
       "5093  エアコン付／\\t床暖房\\tウォークインクローゼット\\tシューズボックス／\\tバルコニー／\\t...   \n",
       "\n",
       "                    Parking  \\\n",
       "5093  駐車場\\t空有(43台)\\t48,600円   \n",
       "\n",
       "                                               Building      Material  \\\n",
       "5093  【飲食店】 959m\\t【飲食店】 611m\\t【スーパー】 417m\\t【スーパー】 65...  RC（鉄筋コンクリート）   \n",
       "\n",
       "                    Contract  \n",
       "5093  3年間\\t※この物件は\\t定期借家\\tです。  "
      ]
     },
     "execution_count": 97,
     "metadata": {},
     "output_type": "execute_result"
    }
   ],
   "source": [
    "train_df[train_df['target']==2500000]"
   ]
  },
  {
   "cell_type": "markdown",
   "metadata": {},
   "source": [
    "- 港区でかなり高そうなのはわかるのでtypoとかではなく正常なデータではありそう"
   ]
  },
  {
   "cell_type": "markdown",
   "metadata": {},
   "source": [
    "### 所在地(Place)"
   ]
  },
  {
   "cell_type": "code",
   "execution_count": 98,
   "metadata": {},
   "outputs": [
    {
     "data": {
      "text/plain": [
       "東京都板橋区板橋３丁目1-8         54\n",
       "東京都世田谷区太子堂２丁目          53\n",
       "東京都足立区新田１丁目            47\n",
       "東京都中野区白鷺２丁目1-21        45\n",
       "東京都中央区日本橋馬喰町２丁目4-12    44\n",
       "東京都豊島区池袋３丁目            43\n",
       "東京都豊島区東池袋２丁目           40\n",
       "東京都墨田区緑４丁目             39\n",
       "東京都中央区日本橋馬喰町２丁目        38\n",
       "東京都中野区江古田３丁目14-3       38\n",
       "Name: Place, dtype: int64"
      ]
     },
     "metadata": {},
     "output_type": "display_data"
    },
    {
     "data": {
      "text/plain": [
       "東京都世田谷区太子堂２丁目       53\n",
       "東京都板橋区板橋３丁目1-8      48\n",
       "東京都豊島区南長崎５丁目        47\n",
       "東京都中野区白鷺２丁目1-21     47\n",
       "東京都中央区勝どき６丁目        42\n",
       "東京都中央区日本橋馬喰町２丁目     41\n",
       "東京都江戸川区鹿骨５丁目        40\n",
       "東京都板橋区高島平１丁目        40\n",
       "東京都江東区海辺            39\n",
       "東京都中野区江古田３丁目14-3    37\n",
       "Name: Place, dtype: int64"
      ]
     },
     "metadata": {},
     "output_type": "display_data"
    }
   ],
   "source": [
    "# trainの同一住所をカウントして上位10件を表示\n",
    "display(train_df[\"Place\"].value_counts()[:10])\n",
    "# testの同一住所をカウントして下位10件を表示\n",
    "display(test_df[\"Place\"].value_counts()[:10])"
   ]
  },
  {
   "cell_type": "markdown",
   "metadata": {},
   "source": [
    "- 東京都，○○区，○○n丁目，a-b（番-号）で区切ることができそう\n",
    "- 住所から緯度経度を取得して利用できそう"
   ]
  },
  {
   "cell_type": "markdown",
   "metadata": {},
   "source": [
    "### アクセス（Access）"
   ]
  },
  {
   "cell_type": "code",
   "execution_count": 99,
   "metadata": {},
   "outputs": [
    {
     "data": {
      "text/plain": [
       "都営大江戸線\\t新江古田駅\\t徒歩10分\\t\\t西武池袋線\\t江古田駅\\t徒歩20分\\t\\t西武新宿線\\t沼袋駅\\t徒歩15分           65\n",
       "総武本線\\t馬喰町駅\\t徒歩4分\\t\\t都営浅草線\\t浅草橋駅\\t徒歩4分                                     61\n",
       "都営三田線\\t板橋区役所前駅\\t徒歩5分\\t\\t東武東上線\\t下板橋駅\\t徒歩7分\\t\\t都営三田線\\t新板橋駅\\t徒歩8分            49\n",
       "東西線\\t木場(東京都)駅\\t徒歩5分\\t\\t都営大江戸線\\t門前仲町駅\\t徒歩15分\\t\\t京葉線(東京－蘇我)\\t越中島駅\\t徒歩17分    48\n",
       "西武新宿線\\t鷺ノ宮駅\\t徒歩8分\\t\\t西武新宿線\\t都立家政駅\\t徒歩14分\\t\\t西武新宿線\\t下井草駅\\t徒歩20分            45\n",
       "総武本線\\t馬喰町駅\\t徒歩4分\\t\\t総武線・中央線（各停）\\t浅草橋駅\\t徒歩4分\\t\\t都営新宿線\\t馬喰横山駅\\t徒歩8分         44\n",
       "都営大江戸線\\t勝どき駅\\t徒歩5分\\t\\t有楽町線\\t月島駅\\t徒歩14分\\t\\t日比谷線\\t築地駅\\t徒歩21分                36\n",
       "有楽町線\\t新富町(東京都)駅\\t徒歩3分\\t\\t日比谷線\\t八丁堀(東京都)駅\\t徒歩4分\\t\\t日比谷線\\t築地駅\\t徒歩5分         30\n",
       "都営新宿線\\t住吉(東京都)駅\\t徒歩7分\\t\\t都営新宿線\\t西大島駅\\t徒歩19分\\t\\t都営新宿線\\t菊川(東京都)駅\\t徒歩20分     29\n",
       "ゆりかもめ\\t芝浦ふ頭駅\\t徒歩2分\\t\\t山手線\\t田町(東京都)駅\\t徒歩15分\\t\\t都営三田線\\t三田(東京都)駅\\t徒歩19分      29\n",
       "Name: Access, dtype: int64"
      ]
     },
     "metadata": {},
     "output_type": "display_data"
    },
    {
     "data": {
      "text/plain": [
       "都営大江戸線\\t新江古田駅\\t徒歩10分\\t\\t西武池袋線\\t江古田駅\\t徒歩20分\\t\\t西武新宿線\\t沼袋駅\\t徒歩15分           66\n",
       "西武新宿線\\t鷺ノ宮駅\\t徒歩8分\\t\\t西武新宿線\\t都立家政駅\\t徒歩14分\\t\\t西武新宿線\\t下井草駅\\t徒歩20分            47\n",
       "総武本線\\t馬喰町駅\\t徒歩4分\\t\\t都営浅草線\\t浅草橋駅\\t徒歩4分                                     46\n",
       "都営大江戸線\\t勝どき駅\\t徒歩5分\\t\\t有楽町線\\t月島駅\\t徒歩14分\\t\\t日比谷線\\t築地駅\\t徒歩21分                46\n",
       "都営三田線\\t板橋区役所前駅\\t徒歩5分\\t\\t東武東上線\\t下板橋駅\\t徒歩7分\\t\\t都営三田線\\t新板橋駅\\t徒歩8分            44\n",
       "東西線\\t木場(東京都)駅\\t徒歩5分\\t\\t都営大江戸線\\t門前仲町駅\\t徒歩15分\\t\\t京葉線(東京－蘇我)\\t越中島駅\\t徒歩17分    39\n",
       "総武本線\\t馬喰町駅\\t徒歩4分\\t\\t総武線・中央線（各停）\\t浅草橋駅\\t徒歩4分\\t\\t都営新宿線\\t馬喰横山駅\\t徒歩8分         37\n",
       "都営大江戸線\\t新御徒町駅\\t徒歩7分\\t\\t銀座線\\t稲荷町(東京都)駅\\t徒歩7分\\t\\t銀座線\\t田原町(東京都)駅\\t徒歩8分       29\n",
       "西武池袋線\\t東長崎駅\\t徒歩1分\\t\\t都営大江戸線\\t落合南長崎駅\\t徒歩9分                                 29\n",
       "ゆりかもめ\\t芝浦ふ頭駅\\t徒歩2分\\t\\t山手線\\t田町(東京都)駅\\t徒歩15分\\t\\t都営三田線\\t三田(東京都)駅\\t徒歩19分      29\n",
       "Name: Access, dtype: int64"
      ]
     },
     "metadata": {},
     "output_type": "display_data"
    }
   ],
   "source": [
    "# train\n",
    "display(train_df[\"Access\"].value_counts()[:10])\n",
    "# test\n",
    "display(test_df[\"Access\"].value_counts()[:10])"
   ]
  },
  {
   "cell_type": "markdown",
   "metadata": {},
   "source": [
    "- 最寄駅は複数あって\\t\\tで区切れそう\n",
    "- ○○線，○○駅，徒歩n分がひとかたまりでそれぞれ\\tで区切れそう"
   ]
  },
  {
   "cell_type": "markdown",
   "metadata": {},
   "source": [
    "### 間取り（Room）"
   ]
  },
  {
   "cell_type": "code",
   "execution_count": 100,
   "metadata": {},
   "outputs": [
    {
     "data": {
      "text/plain": [
       "1K            11930\n",
       "1R             5082\n",
       "1LDK           4823\n",
       "2LDK           2552\n",
       "2DK            1909\n",
       "1DK            1893\n",
       "3LDK           1124\n",
       "2K              920\n",
       "3DK             419\n",
       "1LDK+S(納戸)      238\n",
       "Name: Room, dtype: int64"
      ]
     },
     "metadata": {},
     "output_type": "display_data"
    },
    {
     "data": {
      "text/plain": [
       "1K            11731\n",
       "1R             5095\n",
       "1LDK           4879\n",
       "2LDK           2579\n",
       "1DK            1889\n",
       "2DK            1806\n",
       "3LDK           1116\n",
       "2K              887\n",
       "3DK             432\n",
       "1LDK+S(納戸)      249\n",
       "Name: Room, dtype: int64"
      ]
     },
     "metadata": {},
     "output_type": "display_data"
    }
   ],
   "source": [
    "# train\n",
    "display(train_df[\"Room\"].value_counts()[:10])\n",
    "# test\n",
    "display(test_df[\"Room\"].value_counts()[:10])"
   ]
  },
  {
   "cell_type": "code",
   "execution_count": 101,
   "metadata": {},
   "outputs": [
    {
     "name": "stdout",
     "output_type": "stream",
     "text": [
      "['1K' '1R' '2LDK' ... '1LK+S(納戸)' '5DK+S(納戸)' '3K+S(納戸)']\n",
      "ユニーク数:  30\n"
     ]
    }
   ],
   "source": [
    "# 間取りのユニークなもの\n",
    "print(train_df[\"Room\"].unique())\n",
    "print(\"ユニーク数: \", train_df[\"Room\"].unique().shape[0])"
   ]
  },
  {
   "cell_type": "markdown",
   "metadata": {},
   "source": [
    "納戸の有無で賃料の違いはある?"
   ]
  },
  {
   "cell_type": "code",
   "execution_count": 102,
   "metadata": {},
   "outputs": [
    {
     "name": "stdout",
     "output_type": "stream",
     "text": [
      "1LDK 4823戸，中央値 150000.0円\n",
      "1LDK+S(納戸) 238戸，中央値 195000.0円\n"
     ]
    },
    {
     "data": {
      "text/plain": [
       "<AxesSubplot:xlabel='target', ylabel='Probability'>"
      ]
     },
     "execution_count": 102,
     "metadata": {},
     "output_type": "execute_result"
    },
    {
     "data": {
      "image/png": "[encoded data removed]",
      "text/plain": [
       "<Figure size 864x432 with 1 Axes>"
      ]
     },
     "metadata": {
      "needs_background": "light"
     },
     "output_type": "display_data"
    }
   ],
   "source": [
    "a = '1LDK'\n",
    "b = '1LDK+S(納戸)'\n",
    "print(f\"{a} {train_df[train_df['Room']==a].shape[0]}戸，中央値 {train_df[train_df['Room']==a]['target'].median()}円\")\n",
    "print(f\"{b} {train_df[train_df['Room']==b].shape[0]}戸，中央値 {train_df[train_df['Room']==b]['target'].median()}円\")\n",
    "sample_df = train_df[(train_df[\"Room\"]==a) | (train_df[\"Room\"]==b)]\n",
    "plt.figure(figsize=(12,6))\n",
    "sns.histplot(data=sample_df, x=\"target\", hue=\"Room\", bins=100, kde=True, stat=\"probability\", common_norm=False)"
   ]
  },
  {
   "cell_type": "markdown",
   "metadata": {},
   "source": [
    "- 分布を見たかんじ差はありそう（2クラス間で他の要因が同割合だと仮定したらですが）\n",
    "- 中央値で4.5万ぐらいの差がある（なるほど，納戸って結構高いんだな...）"
   ]
  },
  {
   "cell_type": "markdown",
   "metadata": {},
   "source": [
    "### 築年数（Passed）"
   ]
  },
  {
   "cell_type": "code",
   "execution_count": 103,
   "metadata": {},
   "outputs": [
    {
     "data": {
      "text/plain": [
       "0年1ヶ月     983\n",
       "新築        889\n",
       "0年0ヶ月     704\n",
       "0年2ヶ月     644\n",
       "0年3ヶ月     508\n",
       "0年5ヶ月     484\n",
       "0年6ヶ月     378\n",
       "0年4ヶ月     323\n",
       "12年5ヶ月    262\n",
       "11年5ヶ月    227\n",
       "Name: Passed, dtype: int64"
      ]
     },
     "metadata": {},
     "output_type": "display_data"
    },
    {
     "data": {
      "text/plain": [
       "0年1ヶ月     902\n",
       "新築        850\n",
       "0年0ヶ月     671\n",
       "0年2ヶ月     629\n",
       "0年3ヶ月     489\n",
       "0年5ヶ月     421\n",
       "0年6ヶ月     406\n",
       "0年4ヶ月     301\n",
       "12年5ヶ月    266\n",
       "11年5ヶ月    243\n",
       "Name: Passed, dtype: int64"
      ]
     },
     "metadata": {},
     "output_type": "display_data"
    }
   ],
   "source": [
    "# train\n",
    "display(train_df[\"Passed\"].value_counts()[:10])\n",
    "# test\n",
    "display(test_df[\"Passed\"].value_counts()[:10])"
   ]
  },
  {
   "cell_type": "markdown",
   "metadata": {},
   "source": [
    "- 基本的にはn年mカ月の表記\n",
    "- 新築の定義は？\n",
    "    - 建設工事完了から１年以内で、かつ、人が住んだことのないこと（https://www.zennichi.or.jp/law_faq/%E6%96%B0%E7%AF%89%E4%BD%8F%E5%AE%85%E3%81%AE%E6%84%8F%E5%91%B3/ ）\n",
    "    - 仮に0年0ヶ月が新築でなければ結構数あるのやばくね？"
   ]
  },
  {
   "cell_type": "markdown",
   "metadata": {},
   "source": [
    "### 方角（Angle）"
   ]
  },
  {
   "cell_type": "code",
   "execution_count": 104,
   "metadata": {},
   "outputs": [
    {
     "data": {
      "text/plain": [
       "南     8909\n",
       "東     4995\n",
       "西     4026\n",
       "南東    3098\n",
       "南西    3080\n",
       "北     1966\n",
       "北西    1326\n",
       "北東    1321\n",
       "Name: Angle, dtype: int64"
      ]
     },
     "metadata": {},
     "output_type": "display_data"
    },
    {
     "data": {
      "text/plain": [
       "南     8788\n",
       "東     4948\n",
       "西     4061\n",
       "南東    3052\n",
       "南西    3042\n",
       "北     1801\n",
       "北西    1416\n",
       "北東    1346\n",
       "Name: Angle, dtype: int64"
      ]
     },
     "metadata": {},
     "output_type": "display_data"
    }
   ],
   "source": [
    "# train\n",
    "display(train_df[\"Angle\"].value_counts())\n",
    "# test\n",
    "display(test_df[\"Angle\"].value_counts())"
   ]
  },
  {
   "cell_type": "markdown",
   "metadata": {},
   "source": [
    "- 日当たりが良い南向きが多いのは直感にあう"
   ]
  },
  {
   "cell_type": "markdown",
   "metadata": {},
   "source": [
    "### 面積（Area）"
   ]
  },
  {
   "cell_type": "code",
   "execution_count": 105,
   "metadata": {},
   "outputs": [
    {
     "data": {
      "text/plain": [
       "20m2       226\n",
       "40m2       209\n",
       "18m2       188\n",
       "21m2       169\n",
       "30m2       164\n",
       "25m2       143\n",
       "16m2       121\n",
       "22m2       117\n",
       "15m2       111\n",
       "19.87m2    110\n",
       "Name: Area, dtype: int64"
      ]
     },
     "metadata": {},
     "output_type": "display_data"
    },
    {
     "data": {
      "text/plain": [
       "20m2       260\n",
       "18m2       191\n",
       "25m2       167\n",
       "21m2       162\n",
       "40m2       159\n",
       "30m2       156\n",
       "16m2       141\n",
       "25.5m2     129\n",
       "35m2       126\n",
       "19.87m2    119\n",
       "Name: Area, dtype: int64"
      ]
     },
     "metadata": {},
     "output_type": "display_data"
    }
   ],
   "source": [
    "# train\n",
    "display(train_df[\"Area\"].value_counts()[:10])\n",
    "# test\n",
    "display(test_df[\"Area\"].value_counts()[:10])"
   ]
  },
  {
   "cell_type": "markdown",
   "metadata": {},
   "source": [
    "- m2（平方メートル）をとるだけの楽ちん前処理でよさげ（つまり[:-2]）"
   ]
  },
  {
   "cell_type": "markdown",
   "metadata": {},
   "source": [
    "実際に面積と賃料の関係をプロットしてみる"
   ]
  },
  {
   "cell_type": "code",
   "execution_count": 106,
   "metadata": {},
   "outputs": [
    {
     "data": {
      "text/html": [
       "<div>\n",
       "<style scoped>\n",
       "    .dataframe tbody tr th:only-of-type {\n",
       "        vertical-align: middle;\n",
       "    }\n",
       "\n",
       "    .dataframe tbody tr th {\n",
       "        vertical-align: top;\n",
       "    }\n",
       "\n",
       "    .dataframe thead th {\n",
       "        text-align: right;\n",
       "    }\n",
       "</style>\n",
       "<table border=\"1\" class=\"dataframe\">\n",
       "  <thead>\n",
       "    <tr style=\"text-align: right;\">\n",
       "      <th></th>\n",
       "      <th>target</th>\n",
       "      <th>Area</th>\n",
       "    </tr>\n",
       "  </thead>\n",
       "  <tbody>\n",
       "    <tr>\n",
       "      <th>0</th>\n",
       "      <td>75000</td>\n",
       "      <td>20.01</td>\n",
       "    </tr>\n",
       "    <tr>\n",
       "      <th>1</th>\n",
       "      <td>76000</td>\n",
       "      <td>16.50</td>\n",
       "    </tr>\n",
       "    <tr>\n",
       "      <th>2</th>\n",
       "      <td>110000</td>\n",
       "      <td>22.05</td>\n",
       "    </tr>\n",
       "    <tr>\n",
       "      <th>3</th>\n",
       "      <td>150000</td>\n",
       "      <td>60.48</td>\n",
       "    </tr>\n",
       "    <tr>\n",
       "      <th>4</th>\n",
       "      <td>74000</td>\n",
       "      <td>39.66</td>\n",
       "    </tr>\n",
       "    <tr>\n",
       "      <th>...</th>\n",
       "      <td>...</td>\n",
       "      <td>...</td>\n",
       "    </tr>\n",
       "    <tr>\n",
       "      <th>31465</th>\n",
       "      <td>80000</td>\n",
       "      <td>37.90</td>\n",
       "    </tr>\n",
       "    <tr>\n",
       "      <th>31466</th>\n",
       "      <td>54500</td>\n",
       "      <td>12.04</td>\n",
       "    </tr>\n",
       "    <tr>\n",
       "      <th>31467</th>\n",
       "      <td>125000</td>\n",
       "      <td>60.00</td>\n",
       "    </tr>\n",
       "    <tr>\n",
       "      <th>31468</th>\n",
       "      <td>98000</td>\n",
       "      <td>29.59</td>\n",
       "    </tr>\n",
       "    <tr>\n",
       "      <th>31469</th>\n",
       "      <td>81000</td>\n",
       "      <td>25.00</td>\n",
       "    </tr>\n",
       "  </tbody>\n",
       "</table>\n",
       "<p>31470 rows × 2 columns</p>\n",
       "</div>"
      ],
      "text/plain": [
       "       target   Area\n",
       "0       75000  20.01\n",
       "1       76000  16.50\n",
       "2      110000  22.05\n",
       "3      150000  60.48\n",
       "4       74000  39.66\n",
       "...       ...    ...\n",
       "31465   80000  37.90\n",
       "31466   54500  12.04\n",
       "31467  125000  60.00\n",
       "31468   98000  29.59\n",
       "31469   81000  25.00\n",
       "\n",
       "[31470 rows x 2 columns]"
      ]
     },
     "execution_count": 106,
     "metadata": {},
     "output_type": "execute_result"
    }
   ],
   "source": [
    "sample_df = train_df[[\"target\",\"Area\"]]\n",
    "# Areaの各値の後ろ2文字m2を除いてfloatに変換してやる\n",
    "sample_df[\"Area\"] = sample_df[\"Area\"].apply(lambda x: float(x[:-2]))\n",
    "sample_df"
   ]
  },
  {
   "cell_type": "code",
   "execution_count": 107,
   "metadata": {},
   "outputs": [
    {
     "data": {
      "text/plain": [
       "<AxesSubplot:xlabel='Area', ylabel='target'>"
      ]
     },
     "execution_count": 107,
     "metadata": {},
     "output_type": "execute_result"
    },
    {
     "data": {
      "image/png": "[encoded data removed]",
      "text/plain": [
       "<Figure size 432x288 with 1 Axes>"
      ]
     },
     "metadata": {
      "needs_background": "light"
     },
     "output_type": "display_data"
    }
   ],
   "source": [
    "# Areaをx軸，target（賃料）をy軸に指定して散布図でプロット\n",
    "sns.scatterplot(data=sample_df, x=\"Area\", y=\"target\")"
   ]
  },
  {
   "cell_type": "markdown",
   "metadata": {},
   "source": [
    "- ちゃんと面積が広い方が賃料が高くなっていることが確認できる\n",
    "- $400m^2$以上あって賃料10万ぐらいの外れ値を発見できる（さすがにtypoくさい）"
   ]
  },
  {
   "cell_type": "markdown",
   "metadata": {},
   "source": [
    "### 所在階（Floor）"
   ]
  },
  {
   "cell_type": "code",
   "execution_count": 108,
   "metadata": {},
   "outputs": [
    {
     "data": {
      "text/plain": [
       "2階／2階建    2851\n",
       "1階／2階建    2771\n",
       "2階／3階建    2017\n",
       "3階／3階建    1805\n",
       "1階／3階建    1640\n",
       "3階／4階建     906\n",
       "2階／4階建     807\n",
       "3階／5階建     708\n",
       "2階／5階建     699\n",
       "4階／4階建     677\n",
       "Name: Floor, dtype: int64"
      ]
     },
     "metadata": {},
     "output_type": "display_data"
    },
    {
     "data": {
      "text/plain": [
       "2階／2階建    2855\n",
       "1階／2階建    2748\n",
       "2階／3階建    2013\n",
       "3階／3階建    1736\n",
       "1階／3階建    1685\n",
       "3階／4階建     833\n",
       "2階／4階建     812\n",
       "2階／5階建     677\n",
       "4階／4階建     673\n",
       "3階／5階建     665\n",
       "Name: Floor, dtype: int64"
      ]
     },
     "metadata": {},
     "output_type": "display_data"
    }
   ],
   "source": [
    "# train\n",
    "display(train_df[\"Floor\"].value_counts()[:10])\n",
    "# test\n",
    "display(test_df[\"Floor\"].value_counts()[:10])"
   ]
  },
  {
   "cell_type": "markdown",
   "metadata": {},
   "source": [
    "- n階とm階建で区切れそう"
   ]
  },
  {
   "cell_type": "markdown",
   "metadata": {},
   "source": [
    "### バス・トイレ（Bath）"
   ]
  },
  {
   "cell_type": "code",
   "execution_count": 118,
   "metadata": {},
   "outputs": [
    {
     "data": {
      "text/plain": [
       "専用バス／\\t専用トイレ／\\tバス・トイレ別／\\tシャワー／\\t追焚機能／\\t浴室乾燥機\\t／\\t温水洗浄便座／\\t洗面台独立／\\t脱衣所    4606\n",
       "専用バス／\\t専用トイレ／\\tバス・トイレ別／\\tシャワー／\\t浴室乾燥機\\t／\\t温水洗浄便座／\\t洗面台独立／\\t脱衣所           2936\n",
       "専用バス／\\t専用トイレ／\\tシャワー                                                      2133\n",
       "専用バス／\\t専用トイレ／\\tバス・トイレ別／\\tシャワー                                            1495\n",
       "専用バス／\\t専用トイレ／\\tバス・トイレ別／\\tシャワー／\\t追焚機能／\\t浴室乾燥機\\t／\\t温水洗浄便座／\\t洗面台独立           873\n",
       "シャワー                                                                      849\n",
       "専用バス／\\t専用トイレ／\\tバス・トイレ別／\\tシャワー／\\t洗面台独立／\\t脱衣所                               802\n",
       "バス・トイレ別／\\tシャワー／\\t追焚機能／\\t浴室乾燥機\\t／\\t温水洗浄便座／\\t洗面台独立                          795\n",
       "専用バス／\\t専用トイレ／\\tバス・トイレ別／\\tシャワー／\\t浴室乾燥機\\t／\\t温水洗浄便座／\\t洗面台独立                  708\n",
       "バス・トイレ別／\\tシャワー                                                            656\n",
       "Name: Bath, dtype: int64"
      ]
     },
     "metadata": {},
     "output_type": "display_data"
    },
    {
     "data": {
      "text/plain": [
       "専用バス／\\t専用トイレ／\\tバス・トイレ別／\\tシャワー／\\t追焚機能／\\t浴室乾燥機\\t／\\t温水洗浄便座／\\t洗面台独立／\\t脱衣所    4507\n",
       "専用バス／\\t専用トイレ／\\tバス・トイレ別／\\tシャワー／\\t浴室乾燥機\\t／\\t温水洗浄便座／\\t洗面台独立／\\t脱衣所           2849\n",
       "専用バス／\\t専用トイレ／\\tシャワー                                                      1994\n",
       "専用バス／\\t専用トイレ／\\tバス・トイレ別／\\tシャワー                                            1598\n",
       "専用バス／\\t専用トイレ／\\tバス・トイレ別／\\tシャワー／\\t追焚機能／\\t浴室乾燥機\\t／\\t温水洗浄便座／\\t洗面台独立           887\n",
       "シャワー                                                                      877\n",
       "専用バス／\\t専用トイレ／\\tバス・トイレ別／\\tシャワー／\\t洗面台独立／\\t脱衣所                               859\n",
       "バス・トイレ別／\\tシャワー／\\t追焚機能／\\t浴室乾燥機\\t／\\t温水洗浄便座／\\t洗面台独立                          727\n",
       "専用バス／\\t専用トイレ／\\tバス・トイレ別／\\tシャワー／\\t浴室乾燥機\\t／\\t温水洗浄便座／\\t洗面台独立                  720\n",
       "バス・トイレ別／\\tシャワー                                                            643\n",
       "Name: Bath, dtype: int64"
      ]
     },
     "metadata": {},
     "output_type": "display_data"
    }
   ],
   "source": [
    "column = \"Bath\"\n",
    "# train\n",
    "display(train_df[column].value_counts()[:10])\n",
    "# test\n",
    "display(test_df[column].value_counts()[:10])"
   ]
  },
  {
   "cell_type": "markdown",
   "metadata": {},
   "source": [
    "- /と\\tで区切れそう\n",
    "- 各設備の有無で特徴量つくるとか？"
   ]
  },
  {
   "cell_type": "markdown",
   "metadata": {},
   "source": [
    "### Kitchen（キッチン）"
   ]
  },
  {
   "cell_type": "code",
   "execution_count": 119,
   "metadata": {},
   "outputs": [
    {
     "data": {
      "text/plain": [
       "ガスコンロ／\\tコンロ2口／\\tシステムキッチン\\t／\\t給湯                  6016\n",
       "ガスコンロ／\\tコンロ2口／\\t給湯                               2272\n",
       "ガスコンロ／\\tコンロ3口／\\tシステムキッチン\\t／\\t給湯                  1606\n",
       "給湯                                               1328\n",
       "ガスコンロ／\\tコンロ2口／\\tシステムキッチン\\t／\\t給湯／\\t独立キッチン         1299\n",
       "ガスコンロ／\\tコンロ3口／\\tシステムキッチン\\t／\\tカウンターキッチン\\t／\\t給湯    1249\n",
       "ガスコンロ／\\t給湯                                        933\n",
       "ガスコンロ／\\tコンロ2口／\\tシステムキッチン                          778\n",
       "IHコンロ\\t／\\tコンロ2口／\\tシステムキッチン\\t／\\t給湯                 707\n",
       "ガスコンロ／\\tコンロ1口／\\t給湯                                624\n",
       "Name: Kitchen, dtype: int64"
      ]
     },
     "metadata": {},
     "output_type": "display_data"
    },
    {
     "data": {
      "text/plain": [
       "ガスコンロ／\\tコンロ2口／\\tシステムキッチン\\t／\\t給湯                  5937\n",
       "ガスコンロ／\\tコンロ2口／\\t給湯                               2205\n",
       "ガスコンロ／\\tコンロ3口／\\tシステムキッチン\\t／\\t給湯                  1627\n",
       "給湯                                               1308\n",
       "ガスコンロ／\\tコンロ2口／\\tシステムキッチン\\t／\\t給湯／\\t独立キッチン         1263\n",
       "ガスコンロ／\\tコンロ3口／\\tシステムキッチン\\t／\\tカウンターキッチン\\t／\\t給湯    1259\n",
       "ガスコンロ／\\t給湯                                        952\n",
       "ガスコンロ／\\tコンロ2口／\\tシステムキッチン                          776\n",
       "IHコンロ\\t／\\tコンロ2口／\\tシステムキッチン\\t／\\t給湯                 711\n",
       "ガスコンロ／\\tコンロ2口／\\tシステムキッチン\\t／\\tカウンターキッチン\\t／\\t給湯     618\n",
       "Name: Kitchen, dtype: int64"
      ]
     },
     "metadata": {},
     "output_type": "display_data"
    }
   ],
   "source": [
    "column = \"Kitchen\"\n",
    "# train\n",
    "display(train_df[column].value_counts()[:10])\n",
    "# test\n",
    "display(test_df[column].value_counts()[:10])"
   ]
  },
  {
   "cell_type": "markdown",
   "metadata": {},
   "source": [
    "### 放送・通信（Internet）\n",
    "\n",
    "室内設備\t駐車場\t周辺環境\t建物構造\t契約期間\n",
    "Facility\tParking\tBuilding\tMaterial\tContract"
   ]
  },
  {
   "cell_type": "code",
   "execution_count": 111,
   "metadata": {},
   "outputs": [
    {
     "data": {
      "text/plain": [
       "インターネット対応                                      2618\n",
       "光ファイバー                                         2326\n",
       "インターネット対応／\\t光ファイバー                             1561\n",
       "光ファイバー／\\tCATV                                  1480\n",
       "インターネット対応／\\t光ファイバー／\\tCATV／\\tCSアンテナ／\\tBSアンテナ    1357\n",
       "インターネット対応／\\tCATV                               1226\n",
       "光ファイバー／\\tCATV／\\tCSアンテナ／\\tBSアンテナ                1212\n",
       "インターネット対応／\\t光ファイバー／\\tCSアンテナ／\\tBSアンテナ           1005\n",
       "インターネット対応／\\t光ファイバー／\\tCATV                       979\n",
       "CATV                                            979\n",
       "Name: Internet, dtype: int64"
      ]
     },
     "metadata": {},
     "output_type": "display_data"
    },
    {
     "data": {
      "text/plain": [
       "インターネット対応                                      2548\n",
       "光ファイバー                                         2277\n",
       "インターネット対応／\\t光ファイバー                             1561\n",
       "インターネット対応／\\t光ファイバー／\\tCATV／\\tCSアンテナ／\\tBSアンテナ    1384\n",
       "光ファイバー／\\tCATV                                  1360\n",
       "インターネット対応／\\tCATV                               1247\n",
       "光ファイバー／\\tCATV／\\tCSアンテナ／\\tBSアンテナ                1182\n",
       "インターネット対応／\\t光ファイバー／\\tCSアンテナ／\\tBSアンテナ           1036\n",
       "インターネット対応／\\t光ファイバー／\\tCATV                      1034\n",
       "CATV                                            965\n",
       "Name: Internet, dtype: int64"
      ]
     },
     "metadata": {},
     "output_type": "display_data"
    }
   ],
   "source": [
    "# train\n",
    "column = \"Internet\"\n",
    "display(train_df[column].value_counts()[:10])\n",
    "# test\n",
    "display(test_df[column].value_counts()[:10])"
   ]
  },
  {
   "cell_type": "markdown",
   "metadata": {},
   "source": [
    "### 室内設備(Facility)"
   ]
  },
  {
   "cell_type": "code",
   "execution_count": 112,
   "metadata": {},
   "outputs": [
    {
     "data": {
      "text/plain": [
       "エアコン付\\tシューズボックス／\\tバルコニー／\\tフローリング／\\t24時間換気システム\\t／\\t室内洗濯機置場／\\t敷地内ごみ置き場\\t／\\tエレベーター／\\tタイル張り\\t公営水道／\\t下水／\\t都市ガス                  1540\n",
       "エアコン付\\tシューズボックス／\\tバルコニー／\\tフローリング／\\t室内洗濯機置場／\\t敷地内ごみ置き場\\t／\\tエレベーター／\\tタイル張り\\t公営水道／\\t下水／\\t都市ガス                                  811\n",
       "冷房／\\tエアコン付\\tシューズボックス／\\tバルコニー／\\tフローリング／\\t24時間換気システム\\t／\\t室内洗濯機置場／\\t敷地内ごみ置き場\\t／\\tエレベーター／\\tタイル張り\\t公営水道／\\t下水／\\t都市ガス              602\n",
       "エアコン付\\tシューズボックス／\\tバルコニー／\\tフローリング／\\t24時間換気システム\\t／\\t2面採光／\\t室内洗濯機置場／\\t敷地内ごみ置き場\\t／\\tエレベーター／\\tタイル張り\\t公営水道／\\t下水／\\t都市ガス            564\n",
       "エアコン付\\tシューズボックス／\\tバルコニー／\\tフローリング／\\t室内洗濯機置場／\\t敷地内ごみ置き場\\t／\\tエレベーター\\t公営水道／\\t下水／\\t都市ガス                                          412\n",
       "エアコン付\\tシューズボックス／\\tバルコニー／\\tフローリング／\\t24時間換気システム\\t／\\t室内洗濯機置場／\\t敷地内ごみ置き場\\t／\\tエレベーター\\t公営水道／\\t下水／\\t都市ガス                           369\n",
       "エアコン付\\tシューズボックス／\\tバルコニー／\\tフローリング／\\t室内洗濯機置場\\t公営水道／\\t下水／\\t都市ガス                                                                330\n",
       "エアコン付\\tウォークインクローゼット\\tシューズボックス／\\tバルコニー／\\tフローリング／\\t24時間換気システム\\t／\\t室内洗濯機置場／\\t敷地内ごみ置き場\\t／\\tエレベーター／\\tタイル張り\\t公営水道／\\t下水／\\t都市ガス     321\n",
       "エアコン付\\tシューズボックス／\\tバルコニー／\\tフローリング／\\t室内洗濯機置場／\\t敷地内ごみ置き場\\t公営水道／\\t下水／\\t都市ガス                                                     295\n",
       "エアコン付\\tシューズボックス／\\tバルコニー／\\tフローリング／\\t2面採光／\\t室内洗濯機置場／\\t敷地内ごみ置き場\\t／\\tエレベーター／\\tタイル張り\\t公営水道／\\t下水／\\t都市ガス                           243\n",
       "Name: Facility, dtype: int64"
      ]
     },
     "metadata": {},
     "output_type": "display_data"
    },
    {
     "data": {
      "text/plain": [
       "エアコン付\\tシューズボックス／\\tバルコニー／\\tフローリング／\\t24時間換気システム\\t／\\t室内洗濯機置場／\\t敷地内ごみ置き場\\t／\\tエレベーター／\\tタイル張り\\t公営水道／\\t下水／\\t都市ガス                  1523\n",
       "エアコン付\\tシューズボックス／\\tバルコニー／\\tフローリング／\\t室内洗濯機置場／\\t敷地内ごみ置き場\\t／\\tエレベーター／\\tタイル張り\\t公営水道／\\t下水／\\t都市ガス                                  798\n",
       "冷房／\\tエアコン付\\tシューズボックス／\\tバルコニー／\\tフローリング／\\t24時間換気システム\\t／\\t室内洗濯機置場／\\t敷地内ごみ置き場\\t／\\tエレベーター／\\tタイル張り\\t公営水道／\\t下水／\\t都市ガス              609\n",
       "エアコン付\\tシューズボックス／\\tバルコニー／\\tフローリング／\\t24時間換気システム\\t／\\t2面採光／\\t室内洗濯機置場／\\t敷地内ごみ置き場\\t／\\tエレベーター／\\tタイル張り\\t公営水道／\\t下水／\\t都市ガス            576\n",
       "エアコン付\\tシューズボックス／\\tバルコニー／\\tフローリング／\\t室内洗濯機置場／\\t敷地内ごみ置き場\\t／\\tエレベーター\\t公営水道／\\t下水／\\t都市ガス                                          407\n",
       "エアコン付\\tシューズボックス／\\tバルコニー／\\tフローリング／\\t室内洗濯機置場\\t公営水道／\\t下水／\\t都市ガス                                                                366\n",
       "エアコン付\\tシューズボックス／\\tバルコニー／\\tフローリング／\\t24時間換気システム\\t／\\t室内洗濯機置場／\\t敷地内ごみ置き場\\t／\\tエレベーター\\t公営水道／\\t下水／\\t都市ガス                           352\n",
       "エアコン付\\tシューズボックス／\\tバルコニー／\\tフローリング／\\t室内洗濯機置場／\\t敷地内ごみ置き場\\t公営水道／\\t下水／\\t都市ガス                                                     305\n",
       "エアコン付\\tウォークインクローゼット\\tシューズボックス／\\tバルコニー／\\tフローリング／\\t24時間換気システム\\t／\\t室内洗濯機置場／\\t敷地内ごみ置き場\\t／\\tエレベーター／\\tタイル張り\\t公営水道／\\t下水／\\t都市ガス     273\n",
       "エアコン付\\tシューズボックス／\\tバルコニー／\\tフローリング／\\t室内洗濯機置場／\\t敷地内ごみ置き場\\t／\\tタイル張り\\t公営水道／\\t下水／\\t都市ガス                                           271\n",
       "Name: Facility, dtype: int64"
      ]
     },
     "metadata": {},
     "output_type": "display_data"
    }
   ],
   "source": [
    "# train\n",
    "column = \"Facility\"\n",
    "display(train_df[column].value_counts()[:10])\n",
    "# test\n",
    "display(test_df[column].value_counts()[:10])"
   ]
  },
  {
   "cell_type": "markdown",
   "metadata": {},
   "source": [
    "### 駐車場（Parking）"
   ]
  },
  {
   "cell_type": "code",
   "execution_count": 113,
   "metadata": {},
   "outputs": [
    {
     "data": {
      "text/plain": [
       "駐車場\\t無                                      3269\n",
       "駐輪場\\t空有\\t駐車場\\t無\\tバイク置き場\\t無                  2375\n",
       "駐車場\\t無\\t駐輪場\\t無\\tバイク置き場\\t無                   1832\n",
       "駐輪場\\t空有                                     1246\n",
       "駐輪場\\t空有\\tバイク置き場\\t無                           957\n",
       "駐輪場\\t無\\tバイク置き場\\t無                            941\n",
       "駐輪場\\t空有\\tバイク置き場\\t空有                          756\n",
       "駐輪場\\t空有\\tバイク置き場\\t空有\\t駐車場\\t無                  617\n",
       "駐輪場\\t空有\\t0円                                  439\n",
       "駐車場\\t空有\\t32,400円(税込)\\t駐輪場\\t空有\\tバイク置き場\\t無     139\n",
       "Name: Parking, dtype: int64"
      ]
     },
     "metadata": {},
     "output_type": "display_data"
    },
    {
     "data": {
      "text/plain": [
       "駐車場\\t無                                      3123\n",
       "駐輪場\\t空有\\t駐車場\\t無\\tバイク置き場\\t無                  2478\n",
       "駐車場\\t無\\t駐輪場\\t無\\tバイク置き場\\t無                   1771\n",
       "駐輪場\\t空有                                     1227\n",
       "駐輪場\\t空有\\tバイク置き場\\t無                           974\n",
       "駐輪場\\t無\\tバイク置き場\\t無                            973\n",
       "駐輪場\\t空有\\tバイク置き場\\t空有                          753\n",
       "駐輪場\\t空有\\tバイク置き場\\t空有\\t駐車場\\t無                  605\n",
       "駐輪場\\t空有\\t0円                                  463\n",
       "駐車場\\t空有\\t32,400円(税込)\\t駐輪場\\t空有\\tバイク置き場\\t無     139\n",
       "Name: Parking, dtype: int64"
      ]
     },
     "metadata": {},
     "output_type": "display_data"
    }
   ],
   "source": [
    "# train\n",
    "column = \"Parking\"\n",
    "display(train_df[column].value_counts()[:10])\n",
    "# test\n",
    "display(test_df[column].value_counts()[:10])"
   ]
  },
  {
   "cell_type": "markdown",
   "metadata": {},
   "source": [
    "### 周辺環境(Building)"
   ]
  },
  {
   "cell_type": "code",
   "execution_count": 114,
   "metadata": {},
   "outputs": [
    {
     "data": {
      "text/plain": [
       "【スーパー】 264m\\t【スーパー】 848m\\t【スーパー】 969m\\t【コンビニ】 191m\\t【コンビニ】 378m                  48\n",
       "【スーパー】 227m\\t【スーパー】 442m\\t【スーパー】 422m\\t【コンビニ】 260m\\t【コンビニ】 320m                  47\n",
       "【スーパー】 231m\\t【スーパー】 309m\\t【スーパー】 593m\\t【コンビニ】 103m\\t【コンビニ】 389m                  44\n",
       "【スーパー】 292m\\t【コンビニ】 341m                                                         40\n",
       "【スーパー】 501m\\t【スーパー】 924m\\t【スーパー】 713m\\t【コンビニ】 108m\\t【コンビニ】 275m\\t【コンビニ】 469m     28\n",
       "【スーパー】 275m\\t【スーパー】 478m\\t【スーパー】 1118m\\t【コンビニ】 140m\\t【コンビニ】 153m\\t【コンビニ】 375m    25\n",
       "【スーパー】 702m\\t【スーパー】 789m\\t【スーパー】 959m\\t【コンビニ】 54m\\t【コンビニ】 195m                   24\n",
       "【スーパー】 422m\\t【スーパー】 442m\\t【スーパー】 686m\\t【コンビニ】 398m\\t【病院】 612m                    23\n",
       "【コンビニ】 100m\\t【コンビニ】 300m\\t【コンビニ】 410m\\t【スーパー】 10m\\t【幼稚園・保育園】 1800m\\t【公園】 330m    23\n",
       "【スーパー】 346m\\t【スーパー】 552m\\t【コンビニ】 238m\\t【コンビニ】 613m                               22\n",
       "Name: Building, dtype: int64"
      ]
     },
     "metadata": {},
     "output_type": "display_data"
    },
    {
     "data": {
      "text/plain": [
       "【スーパー】 227m\\t【スーパー】 442m\\t【スーパー】 422m\\t【コンビニ】 260m\\t【コンビニ】 320m                  42\n",
       "【スーパー】 264m\\t【スーパー】 848m\\t【スーパー】 969m\\t【コンビニ】 191m\\t【コンビニ】 378m                  39\n",
       "【スーパー】 231m\\t【スーパー】 309m\\t【スーパー】 593m\\t【コンビニ】 103m\\t【コンビニ】 389m                  37\n",
       "【スーパー】 85m\\t【スーパー】 138m\\t【スーパー】 236m\\t【コンビニ】 236m\\t【コンビニ】 187m                   28\n",
       "【スーパー】 501m\\t【スーパー】 773m\\t【コンビニ】 108m\\t【コンビニ】 600m                               26\n",
       "【スーパー】 275m\\t【スーパー】 478m\\t【スーパー】 1118m\\t【コンビニ】 140m\\t【コンビニ】 153m\\t【コンビニ】 375m    26\n",
       "【スーパー】 498m\\t【スーパー】 805m\\t【スーパー】 923m\\t【スーパー】 995m\\t【コンビニ】 234m\\t【コンビニ】 390m     24\n",
       "【スーパー】 702m\\t【スーパー】 789m\\t【スーパー】 959m\\t【コンビニ】 54m\\t【コンビニ】 195m                   24\n",
       "【スーパー】 501m\\t【スーパー】 924m\\t【スーパー】 713m\\t【コンビニ】 108m\\t【コンビニ】 275m\\t【コンビニ】 469m     21\n",
       "【スーパー】 292m\\t【コンビニ】 341m                                                         21\n",
       "Name: Building, dtype: int64"
      ]
     },
     "metadata": {},
     "output_type": "display_data"
    }
   ],
   "source": [
    "# train\n",
    "column = \"Building\"\n",
    "display(train_df[column].value_counts()[:10])\n",
    "# test\n",
    "display(test_df[column].value_counts()[:10])"
   ]
  },
  {
   "cell_type": "markdown",
   "metadata": {},
   "source": [
    "### 建物構造(Material)"
   ]
  },
  {
   "cell_type": "code",
   "execution_count": 115,
   "metadata": {},
   "outputs": [
    {
     "data": {
      "text/plain": [
       "RC（鉄筋コンクリート）                   17505\n",
       "木造                              5512\n",
       "鉄骨造                             3726\n",
       "SRC（鉄骨鉄筋コンクリート）                 2429\n",
       "軽量鉄骨                            1812\n",
       "ALC（軽量気泡コンクリート）                  297\n",
       "その他                              136\n",
       "PC（プレキャスト・コンクリート（鉄筋コンクリート））       46\n",
       "HPC（プレキャスト・コンクリート（重量鉄骨））           4\n",
       "ブロック                               3\n",
       "Name: Material, dtype: int64"
      ]
     },
     "metadata": {},
     "output_type": "display_data"
    },
    {
     "data": {
      "text/plain": [
       "RC（鉄筋コンクリート）                   17305\n",
       "木造                              5550\n",
       "鉄骨造                             3769\n",
       "SRC（鉄骨鉄筋コンクリート）                 2363\n",
       "軽量鉄骨                            1796\n",
       "ALC（軽量気泡コンクリート）                  280\n",
       "その他                              132\n",
       "PC（プレキャスト・コンクリート（鉄筋コンクリート））       56\n",
       "HPC（プレキャスト・コンクリート（重量鉄骨））           6\n",
       "鉄筋ブロック                             3\n",
       "Name: Material, dtype: int64"
      ]
     },
     "metadata": {},
     "output_type": "display_data"
    }
   ],
   "source": [
    "# train\n",
    "column = \"Material\"\n",
    "display(train_df[column].value_counts()[:10])\n",
    "# test\n",
    "display(test_df[column].value_counts()[:10])"
   ]
  },
  {
   "cell_type": "code",
   "execution_count": 116,
   "metadata": {},
   "outputs": [
    {
     "name": "stdout",
     "output_type": "stream",
     "text": [
      "Materialのユニーク数  10\n",
      "['RC（鉄筋コンクリート）' '鉄骨造' '木造' 'SRC（鉄骨鉄筋コンクリート）' '軽量鉄骨' 'ALC（軽量気泡コンクリート）'\n",
      " 'その他' 'PC（プレキャスト・コンクリート（鉄筋コンクリート））' 'HPC（プレキャスト・コンクリート（重量鉄骨））' 'ブロック']\n"
     ]
    }
   ],
   "source": [
    "print(\"Materialのユニーク数 \", train_df[column].unique().shape[0])\n",
    "print(train_df[column].unique())"
   ]
  },
  {
   "cell_type": "markdown",
   "metadata": {},
   "source": [
    "### 契約期間(Contract)"
   ]
  },
  {
   "cell_type": "code",
   "execution_count": 117,
   "metadata": {},
   "outputs": [
    {
     "data": {
      "text/plain": [
       "2年間                             22555\n",
       "2年間\\t※この物件は\\t定期借家\\tです。            931\n",
       "5年間\\t※この物件は\\t定期借家\\tです。            240\n",
       "3年間\\t※この物件は\\t定期借家\\tです。            230\n",
       "1年間                                87\n",
       "1年間\\t※この物件は\\t定期借家\\tです。             70\n",
       "4年間\\t※この物件は\\t定期借家\\tです。             62\n",
       "3年間                                14\n",
       "2ヶ月間                               11\n",
       "2022年3月まで\\t※この物件は\\t定期借家\\tです。        9\n",
       "Name: Contract, dtype: int64"
      ]
     },
     "metadata": {},
     "output_type": "display_data"
    },
    {
     "data": {
      "text/plain": [
       "2年間                              22497\n",
       "2年間\\t※この物件は\\t定期借家\\tです。             957\n",
       "5年間\\t※この物件は\\t定期借家\\tです。             266\n",
       "3年間\\t※この物件は\\t定期借家\\tです。             213\n",
       "1年間\\t※この物件は\\t定期借家\\tです。              76\n",
       "1年間                                 76\n",
       "4年間\\t※この物件は\\t定期借家\\tです。              58\n",
       "3年間                                 12\n",
       "2021年12月まで\\t※この物件は\\t定期借家\\tです。       11\n",
       "7年間\\t※この物件は\\t定期借家\\tです。               9\n",
       "Name: Contract, dtype: int64"
      ]
     },
     "metadata": {},
     "output_type": "display_data"
    }
   ],
   "source": [
    "# train\n",
    "column = \"Contract\"\n",
    "display(train_df[column].value_counts()[:10])\n",
    "# test\n",
    "display(test_df[column].value_counts()[:10])"
   ]
  },
  {
   "cell_type": "markdown",
   "metadata": {},
   "source": [
    "- 定期借家だと割安の場合があるらしい(https://www.ur-net.go.jp/chintai/college/201909/000399.html )"
   ]
  },
  {
   "cell_type": "code",
   "execution_count": null,
   "metadata": {},
   "outputs": [],
   "source": []
  }
 ],
 "metadata": {
  "kernelspec": {
   "display_name": "Python 3.8.10 ('kaggle')",
   "language": "python",
   "name": "python3"
  },
  "language_info": {
   "codemirror_mode": {
    "name": "ipython",
    "version": 3
   },
   "file_extension": ".py",
   "mimetype": "text/x-python",
   "name": "python",
   "nbconvert_exporter": "python",
   "pygments_lexer": "ipython3",
   "version": "3.8.10"
  },
  "orig_nbformat": 4,
  "vscode": {
   "interpreter": {
    "hash": "236d943a98bf86e7f349ddb92a32dd33844df29cbe1193e5a5b5f6b6f83b5ecb"
   }
  }
 },
 "nbformat": 4,
 "nbformat_minor": 2
}
